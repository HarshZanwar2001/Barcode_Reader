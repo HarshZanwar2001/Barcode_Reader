{
 "cells": [
  {
   "cell_type": "code",
   "execution_count": 2,
   "id": "07a062b6",
   "metadata": {},
   "outputs": [
    {
     "name": "stdout",
     "output_type": "stream",
     "text": [
      "1 barcode(s) detected\n",
      "Barcode Data: 10164, Barcode Type: CODE128\n"
     ]
    }
   ],
   "source": [
    "import cv2\n",
    "import pyzbar.pyzbar as pyzbar\n",
    "\n",
    "# Load the input image\n",
    "image = cv2.imread(\"C:/Users/ASUS\\Desktop/5f3c645345331d34d6511efdf55a1611.jpg\")\n",
    "\n",
    "# Convert the image to grayscale\n",
    "gray = cv2.cvtColor(image, cv2.COLOR_BGR2GRAY)\n",
    "\n",
    "# Detect and decode the barcodes in the image\n",
    "barcodes = pyzbar.decode(gray)\n",
    "\n",
    "# If any barcodes are detected\n",
    "if len(barcodes) > 0:\n",
    "    # Print the number of barcodes detected\n",
    "    print(f'{len(barcodes)} barcode(s) detected')\n",
    "\n",
    "    # Loop over the detected barcodes\n",
    "    for barcode in barcodes:\n",
    "        # Extract the barcode data and type\n",
    "        barcode_data = barcode.data.decode('utf-8')\n",
    "        barcode_type = barcode.type\n",
    "\n",
    "        # Print the barcode data and type\n",
    "        print(f'Barcode Data: {barcode_data}, Barcode Type: {barcode_type}')\n",
    "\n",
    "        # Draw a rectangle around the barcode\n",
    "        (x, y, w, h) = barcode.rect\n",
    "        cv2.rectangle(image, (x, y), (x + w, y + h), (0, 255, 0), 2)\n",
    "\n",
    "    # Display the input image with the detected barcodes\n",
    "    cv2.imshow('Barcode Reader', image)\n",
    "    cv2.waitKey(0)\n",
    "\n",
    "else:\n",
    "    # If no barcodes are detected, print a message\n",
    "    print('No barcodes detected in the image')\n"
   ]
  },
  {
   "cell_type": "code",
   "execution_count": null,
   "id": "d983ec9f",
   "metadata": {},
   "outputs": [],
   "source": []
  },
  {
   "cell_type": "code",
   "execution_count": null,
   "id": "90c805fb",
   "metadata": {},
   "outputs": [],
   "source": []
  },
  {
   "cell_type": "code",
   "execution_count": null,
   "id": "0171b5bf",
   "metadata": {},
   "outputs": [],
   "source": []
  },
  {
   "cell_type": "code",
   "execution_count": null,
   "id": "1d2e1b14",
   "metadata": {},
   "outputs": [],
   "source": []
  }
 ],
 "metadata": {
  "kernelspec": {
   "display_name": "Python 3 (ipykernel)",
   "language": "python",
   "name": "python3"
  },
  "language_info": {
   "codemirror_mode": {
    "name": "ipython",
    "version": 3
   },
   "file_extension": ".py",
   "mimetype": "text/x-python",
   "name": "python",
   "nbconvert_exporter": "python",
   "pygments_lexer": "ipython3",
   "version": "3.10.5"
  }
 },
 "nbformat": 4,
 "nbformat_minor": 5
}
